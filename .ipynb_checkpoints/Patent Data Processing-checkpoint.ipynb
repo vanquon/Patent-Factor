{
 "cells": [
  {
   "cell_type": "markdown",
   "id": "53a09765",
   "metadata": {},
   "source": [
    "**Notes**\n",
    "- Same patent can be classified under different CPC classes\n",
    "- Same patent can be filed under multiple company names"
   ]
  },
  {
   "cell_type": "code",
   "execution_count": 2,
   "id": "30206d23",
   "metadata": {},
   "outputs": [],
   "source": [
    "import pandas as pd"
   ]
  },
  {
   "cell_type": "code",
   "execution_count": 16,
   "id": "4e26f1f9",
   "metadata": {
    "collapsed": true
   },
   "outputs": [
    {
     "ename": "SyntaxError",
     "evalue": "invalid syntax (2135069998.py, line 2)",
     "output_type": "error",
     "traceback": [
      "\u001b[0;36m  File \u001b[0;32m\"/var/folders/d0/db_g_5qs21dfw4hnmk8g3_zm0000gn/T/ipykernel_2158/2135069998.py\"\u001b[0;36m, line \u001b[0;32m2\u001b[0m\n\u001b[0;31m    2,437,850 entries\u001b[0m\n\u001b[0m              ^\u001b[0m\n\u001b[0;31mSyntaxError\u001b[0m\u001b[0;31m:\u001b[0m invalid syntax\n"
     ]
    }
   ],
   "source": [
    "\"\"\"\n",
    "Patents: 2,437,850 entries\n",
    "wku = patent number\n",
    "permco = company identifier\n",
    "permno = stock (share class) identifier\n",
    "\"\"\"\n",
    "\n",
    "df_kpss = pd.read_stata(\"KPSS.dta\")\n",
    "\n",
    "df_kpss.rename(columns={'wku': 'patnum'}, inplace=True)\n",
    "df_kpss['permco'] = pd.to_numeric(df_kpss['permco'], errors='coerce').astype('Int64')\n",
    "df_kpss['permno'] = pd.to_numeric(df_kpss['permno'], errors='coerce').astype('Int64')\n",
    "#df_kpss = df_kpss.drop(['year', 'lmkcap', '_1982adjval', 'firmvol', 'Lfirmvol', 'firmvol15'], axis=1)\n",
    "\n",
    "df_kpss.head(3)"
   ]
  },
  {
   "cell_type": "code",
   "execution_count": 6,
   "id": "111b406b",
   "metadata": {},
   "outputs": [
    {
     "data": {
      "text/html": [
       "<div>\n",
       "<style scoped>\n",
       "    .dataframe tbody tr th:only-of-type {\n",
       "        vertical-align: middle;\n",
       "    }\n",
       "\n",
       "    .dataframe tbody tr th {\n",
       "        vertical-align: top;\n",
       "    }\n",
       "\n",
       "    .dataframe thead th {\n",
       "        text-align: right;\n",
       "    }\n",
       "</style>\n",
       "<table border=\"1\" class=\"dataframe\">\n",
       "  <thead>\n",
       "    <tr style=\"text-align: right;\">\n",
       "      <th></th>\n",
       "      <th>patnum</th>\n",
       "      <th>FIRMID</th>\n",
       "      <th>assignee_ocr</th>\n",
       "    </tr>\n",
       "  </thead>\n",
       "  <tbody>\n",
       "    <tr>\n",
       "      <th>0</th>\n",
       "      <td>263</td>\n",
       "      <td>299069</td>\n",
       "      <td>a. b. ely</td>\n",
       "    </tr>\n",
       "    <tr>\n",
       "      <th>1</th>\n",
       "      <td>263</td>\n",
       "      <td>343694</td>\n",
       "      <td>burglar pro</td>\n",
       "    </tr>\n",
       "    <tr>\n",
       "      <th>2</th>\n",
       "      <td>285</td>\n",
       "      <td>467484</td>\n",
       "      <td>john b. gray</td>\n",
       "    </tr>\n",
       "  </tbody>\n",
       "</table>\n",
       "</div>"
      ],
      "text/plain": [
       "   patnum  FIRMID  assignee_ocr\n",
       "0     263  299069     a. b. ely\n",
       "1     263  343694   burglar pro\n",
       "2     285  467484  john b. gray"
      ]
     },
     "execution_count": 6,
     "metadata": {},
     "output_type": "execute_result"
    }
   ],
   "source": [
    "#Patent-Company match: 7,312,497 entries\n",
    "df_assignees = pd.read_stata(\"Assignees.dta\")\n",
    "df_assignees.head(3)"
   ]
  },
  {
   "cell_type": "code",
   "execution_count": 26,
   "id": "de34553e",
   "metadata": {
    "collapsed": true
   },
   "outputs": [
    {
     "data": {
      "text/html": [
       "<div>\n",
       "<style scoped>\n",
       "    .dataframe tbody tr th:only-of-type {\n",
       "        vertical-align: middle;\n",
       "    }\n",
       "\n",
       "    .dataframe tbody tr th {\n",
       "        vertical-align: top;\n",
       "    }\n",
       "\n",
       "    .dataframe thead th {\n",
       "        text-align: right;\n",
       "    }\n",
       "</style>\n",
       "<table border=\"1\" class=\"dataframe\">\n",
       "  <thead>\n",
       "    <tr style=\"text-align: right;\">\n",
       "      <th></th>\n",
       "      <th>patnum</th>\n",
       "      <th>CPC</th>\n",
       "    </tr>\n",
       "  </thead>\n",
       "  <tbody>\n",
       "    <tr>\n",
       "      <th>0</th>\n",
       "      <td>1</td>\n",
       "      <td>Y10T16/3819</td>\n",
       "    </tr>\n",
       "    <tr>\n",
       "      <th>1</th>\n",
       "      <td>1</td>\n",
       "      <td>B61C11/04</td>\n",
       "    </tr>\n",
       "    <tr>\n",
       "      <th>2</th>\n",
       "      <td>2</td>\n",
       "      <td>C02F1/00</td>\n",
       "    </tr>\n",
       "  </tbody>\n",
       "</table>\n",
       "</div>"
      ],
      "text/plain": [
       "   patnum          CPC\n",
       "0       1  Y10T16/3819\n",
       "1       1    B61C11/04\n",
       "2       2     C02F1/00"
      ]
     },
     "execution_count": 26,
     "metadata": {},
     "output_type": "execute_result"
    }
   ],
   "source": [
    "#Patent classification\n",
    "df_cpc = pd.read_stata(\"full_CPC_class.dta\")\n",
    "\n",
    "#Multiple CPCs exist for the same patent\n",
    "df_cpc = df_cpc.drop_duplicates(subset='wku', keep='first')\n",
    "df_cpc['wku'] = pd.to_numeric(df_cpc['wku'], errors='coerce').astype('Int64')\n",
    "df_cpc.rename(columns={'wku': 'patnum'}, inplace=True)\n",
    "df_cpc.head(3)"
   ]
  },
  {
   "cell_type": "code",
   "execution_count": 39,
   "id": "be01360e",
   "metadata": {},
   "outputs": [
    {
     "data": {
      "text/html": [
       "<div>\n",
       "<style scoped>\n",
       "    .dataframe tbody tr th:only-of-type {\n",
       "        vertical-align: middle;\n",
       "    }\n",
       "\n",
       "    .dataframe tbody tr th {\n",
       "        vertical-align: top;\n",
       "    }\n",
       "\n",
       "    .dataframe thead th {\n",
       "        text-align: right;\n",
       "    }\n",
       "</style>\n",
       "<table border=\"1\" class=\"dataframe\">\n",
       "  <thead>\n",
       "    <tr style=\"text-align: right;\">\n",
       "      <th></th>\n",
       "      <th>patnum</th>\n",
       "      <th>permco</th>\n",
       "      <th>date</th>\n",
       "      <th>permno</th>\n",
       "      <th>FIRMID</th>\n",
       "      <th>assignee_ocr</th>\n",
       "      <th>CPC</th>\n",
       "    </tr>\n",
       "  </thead>\n",
       "  <tbody>\n",
       "    <tr>\n",
       "      <th>2437090</th>\n",
       "      <td>8952169</td>\n",
       "      <td>55126</td>\n",
       "      <td>2015-02-10</td>\n",
       "      <td>&lt;NA&gt;</td>\n",
       "      <td>2c95750465f910baa113df02a0ae1166</td>\n",
       "      <td>Xenon Pharmaceuticals Inc.</td>\n",
       "      <td>C07D413/12</td>\n",
       "    </tr>\n",
       "    <tr>\n",
       "      <th>2437091</th>\n",
       "      <td>8943608</td>\n",
       "      <td>55141</td>\n",
       "      <td>2015-01-27</td>\n",
       "      <td>&lt;NA&gt;</td>\n",
       "      <td>661042</td>\n",
       "      <td>workiva llc</td>\n",
       "      <td>G06F21/6227</td>\n",
       "    </tr>\n",
       "    <tr>\n",
       "      <th>2437092</th>\n",
       "      <td>9075780</td>\n",
       "      <td>55141</td>\n",
       "      <td>2015-07-07</td>\n",
       "      <td>&lt;NA&gt;</td>\n",
       "      <td>ce9167332926bcd0758e0f386b2ba1d0</td>\n",
       "      <td>Workiva Inc.</td>\n",
       "      <td>G06F17/2288</td>\n",
       "    </tr>\n",
       "    <tr>\n",
       "      <th>2437093</th>\n",
       "      <td>8906686</td>\n",
       "      <td>55148</td>\n",
       "      <td>2014-12-09</td>\n",
       "      <td>&lt;NA&gt;</td>\n",
       "      <td>441160</td>\n",
       "      <td>histogenics</td>\n",
       "      <td>A61L27/38</td>\n",
       "    </tr>\n",
       "    <tr>\n",
       "      <th>2437094</th>\n",
       "      <td>8921109</td>\n",
       "      <td>55148</td>\n",
       "      <td>2014-12-30</td>\n",
       "      <td>&lt;NA&gt;</td>\n",
       "      <td>441160</td>\n",
       "      <td>histogenics</td>\n",
       "      <td>A61F2/08</td>\n",
       "    </tr>\n",
       "  </tbody>\n",
       "</table>\n",
       "</div>"
      ],
      "text/plain": [
       "          patnum  permco       date  permno                            FIRMID  \\\n",
       "2437090  8952169   55126 2015-02-10    <NA>  2c95750465f910baa113df02a0ae1166   \n",
       "2437091  8943608   55141 2015-01-27    <NA>                            661042   \n",
       "2437092  9075780   55141 2015-07-07    <NA>  ce9167332926bcd0758e0f386b2ba1d0   \n",
       "2437093  8906686   55148 2014-12-09    <NA>                            441160   \n",
       "2437094  8921109   55148 2014-12-30    <NA>                            441160   \n",
       "\n",
       "                       assignee_ocr          CPC  \n",
       "2437090  Xenon Pharmaceuticals Inc.   C07D413/12  \n",
       "2437091                 workiva llc  G06F21/6227  \n",
       "2437092                Workiva Inc.  G06F17/2288  \n",
       "2437093                histogenics     A61L27/38  \n",
       "2437094                histogenics      A61F2/08  "
      ]
     },
     "execution_count": 39,
     "metadata": {},
     "output_type": "execute_result"
    }
   ],
   "source": [
    "merged_df = df_kpss.merge(df_assignees, on='patnum', how='inner').merge(df_cpc, on='patnum', how='inner')\n",
    "merged_df.tail(5)"
   ]
  }
 ],
 "metadata": {
  "kernelspec": {
   "display_name": "Python 3 (ipykernel)",
   "language": "python",
   "name": "python3"
  },
  "language_info": {
   "codemirror_mode": {
    "name": "ipython",
    "version": 3
   },
   "file_extension": ".py",
   "mimetype": "text/x-python",
   "name": "python",
   "nbconvert_exporter": "python",
   "pygments_lexer": "ipython3",
   "version": "3.8.12"
  }
 },
 "nbformat": 4,
 "nbformat_minor": 5
}
